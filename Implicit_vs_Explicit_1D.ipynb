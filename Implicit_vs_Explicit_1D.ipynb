{
 "cells": [
  {
   "cell_type": "code",
   "execution_count": 1,
   "id": "9689e67f-78fb-4dc7-891e-3bb0da125813",
   "metadata": {},
   "outputs": [],
   "source": [
    "import numpy as np\n",
    "import matplotlib.pyplot as plt\n",
    "from sklearn.metrics import r2_score"
   ]
  },
  {
   "cell_type": "code",
   "execution_count": 34,
   "id": "4038bf44-3a4e-4ef2-a4bb-7677ce6f68f3",
   "metadata": {},
   "outputs": [],
   "source": [
    "from numpy.linalg import solve"
   ]
  },
  {
   "cell_type": "code",
   "execution_count": 72,
   "id": "52071a2d-b82a-4cdb-a0fe-858d39ee0c63",
   "metadata": {},
   "outputs": [],
   "source": [
    "T = 20.32"
   ]
  },
  {
   "cell_type": "code",
   "execution_count": 73,
   "id": "1384b6f8-131d-40f6-a3f0-e1a01eb81360",
   "metadata": {},
   "outputs": [],
   "source": [
    "A = np.array([[-2*T, T, 0],\n",
    "              [T, -2*T, T],\n",
    "              [0, T, -2*T]])"
   ]
  },
  {
   "cell_type": "code",
   "execution_count": 80,
   "id": "59e8487d-6ffc-4682-b315-1be8f1b6c19c",
   "metadata": {},
   "outputs": [],
   "source": [
    "b = np.array([-T*3000, 240, -1000*T])"
   ]
  },
  {
   "cell_type": "code",
   "execution_count": 81,
   "id": "231f9b06-9e87-418e-bab4-01ee01e44fe0",
   "metadata": {},
   "outputs": [
    {
     "data": {
      "text/plain": [
       "array([2494.09448819, 1988.18897638, 1494.09448819])"
      ]
     },
     "execution_count": 81,
     "metadata": {},
     "output_type": "execute_result"
    }
   ],
   "source": [
    "solve(A, b)"
   ]
  },
  {
   "cell_type": "code",
   "execution_count": 83,
   "id": "05019ec9-93cb-45b5-b6ca-e4c34e64747b",
   "metadata": {},
   "outputs": [],
   "source": [
    "p2, p3, p4 = solve(A, b)\n",
    "p1 = 3000\n",
    "p5 = 1000"
   ]
  },
  {
   "cell_type": "code",
   "execution_count": 84,
   "id": "bc3625e6-d9a8-492e-b3f4-1b2e2794b9e4",
   "metadata": {},
   "outputs": [
    {
     "data": {
      "text/plain": [
       "-5.4569682106375694e-12"
      ]
     },
     "execution_count": 84,
     "metadata": {},
     "output_type": "execute_result"
    }
   ],
   "source": [
    "T * (p3-p4) + T*(p5-p4)"
   ]
  },
  {
   "cell_type": "code",
   "execution_count": 85,
   "id": "a7b337de-ed5e-4fc8-b482-7b81ce2457cf",
   "metadata": {},
   "outputs": [
    {
     "data": {
      "text/plain": [
       "240.0000000000109"
      ]
     },
     "execution_count": 85,
     "metadata": {},
     "output_type": "execute_result"
    }
   ],
   "source": [
    "T * (p4-p3) + T*(p2-p3)"
   ]
  },
  {
   "cell_type": "code",
   "execution_count": null,
   "id": "05f9fe51-9b9f-4a76-b795-51fe3cd7ee8a",
   "metadata": {},
   "outputs": [],
   "source": []
  },
  {
   "cell_type": "code",
   "execution_count": 19,
   "id": "f6e3d61b-478f-4ceb-990d-159a8e047937",
   "metadata": {},
   "outputs": [],
   "source": [
    "# delta time (timestep)\n",
    "dt = 0.001\n",
    "# Number of time steps\n",
    "ndt = 500\n",
    "# Length\n",
    "L = \n",
    "# Number of grids == number of nodes-1\n",
    "ndx = 4\n",
    "# boundary conditions pressure (numpy array with a length of 2)\n",
    "bc_pressure = np.array([3750, 1250])\n"
   ]
  },
  {
   "cell_type": "markdown",
   "id": "59b50460-a38a-4319-a0e9-92a76ff99330",
   "metadata": {},
   "source": [
    "### Explicit"
   ]
  },
  {
   "cell_type": "code",
   "execution_count": 20,
   "id": "58becba2-d994-4912-abdd-12e37f1196b5",
   "metadata": {},
   "outputs": [],
   "source": [
    "# Function to solve pressure equation for 1D\n",
    "def pressure_equation_explicit(bc_pressure, dt, ndt, L, ndx):\n",
    "    dx = L/ndx\n",
    "    pressure = np.zeros(shape=[ndx+1, ndt], dtype=np.float64)\n",
    "    pressure[0,:] = bc_pressure[0].copy()\n",
    "    pressure[-1,:] = bc_pressure[1].copy()\n",
    "    dt_dx2 = dt/(dx*dx)\n",
    "    for t in range(ndt-1):\n",
    "        pressure[1:-1, t+1] = pressure[1:-1, t] + dt_dx2*(pressure[:-2, t] + pressure[2:, t] - 2*pressure[1:-1, t])\n",
    "    return pressure"
   ]
  },
  {
   "cell_type": "markdown",
   "id": "b1e0ecee-d803-483e-9121-c76c0713bd49",
   "metadata": {},
   "source": [
    "### Implicit"
   ]
  },
  {
   "cell_type": "code",
   "execution_count": 33,
   "id": "a072c816-a23a-40e2-a623-9d8722eb7b2e",
   "metadata": {},
   "outputs": [],
   "source": [
    "def pressure_equation_implicit(bc_pressure, dt, ndt, L, ndx=10):\n",
    "    pressure = np.zeros(shape=[ndx+1, ndt])\n",
    "    pressure[0,:] = bc_pressure[0].copy()\n",
    "    pressure[-1,:] = bc_pressure[1].copy()\n",
    "    for time in np.arange(ndt-1):\n",
    "        A = np.zeros([ndx-1, ndx-1])\n",
    "        b = np.zeros(ndx-1) # Unnecessary; dimensions defined by pressure length - 2\n",
    "        dx = L/ndx\n",
    "        a = -(2+dx*dx/dt)\n",
    "        for i in range(ndx-2):\n",
    "            A[i+1, i] = 1\n",
    "            A[i, i+1] = 1\n",
    "            A[i, i] = a\n",
    "            if i == ndx-3:\n",
    "                A[i+1,i+1] = a\n",
    "        b = -(dx*dx/dt)*pressure[1:-1, time]\n",
    "        b[0] = -(dx*dx/dt)*pressure[1, time] - pressure[0, time]\n",
    "        b[-1] = -(dx*dx/dt)*pressure[-2, time] - pressure[-1, time]\n",
    "        pressure[1:-1, time+1] = np.linalg.solve(A, b)\n",
    "    return pressure"
   ]
  },
  {
   "cell_type": "code",
   "execution_count": 15,
   "id": "6a99092c-e82e-4530-9e54-ded0a6641753",
   "metadata": {},
   "outputs": [],
   "source": [
    "ndx = 5\n",
    "dt = 0.001\n",
    "ndt = 100\n",
    "p_ex = pressure_equation_explicit(bc_pressure, dt, ndt, L, ndx=ndx)\n",
    "\n",
    "p_im = pressure_equation_implicit(bc_pressure, dt, ndt, L, ndx=ndx)"
   ]
  },
  {
   "cell_type": "code",
   "execution_count": 16,
   "id": "ff6c0ca9-a62d-453d-9076-f0c4ffaaec47",
   "metadata": {},
   "outputs": [],
   "source": [
    "r2_time = np.array([r2_score(p_im[:, t], p_ex[:, t]) for t in np.arange(ndt)])"
   ]
  },
  {
   "cell_type": "code",
   "execution_count": 18,
   "id": "d9148807-1a70-400a-bce2-475c68719905",
   "metadata": {},
   "outputs": [
    {
     "data": {
      "text/plain": [
       "Text(0.5, 1.0, 'Time : 0.05 s')"
      ]
     },
     "execution_count": 18,
     "metadata": {},
     "output_type": "execute_result"
    },
    {
     "data": {
      "image/png": "[encoded data removed]",
      "text/plain": [
       "<Figure size 1000x400 with 1 Axes>"
      ]
     },
     "metadata": {},
     "output_type": "display_data"
    }
   ],
   "source": [
    "timestep = 50\n",
    "plt.figure(figsize=(10,4))\n",
    "plt.ylabel('Pressure')\n",
    "plt.xlabel('Length')\n",
    "plt.plot(np.linspace(0, L, ndx+1), p_im[:, timestep], 'bo-', linewidth=1)\n",
    "plt.plot(np.linspace(0, L, ndx+1), p_ex[:, timestep], 'r--', linewidth=1)\n",
    "plt.legend(['Implicit', 'Explicit'])\n",
    "plt.title(f\"Time : {timestep*dt} s\")"
   ]
  },
  {
   "cell_type": "code",
   "execution_count": null,
   "id": "5266ca25-0d52-4330-9070-7ba4fd29a0f1",
   "metadata": {},
   "outputs": [],
   "source": []
  },
  {
   "cell_type": "code",
   "execution_count": null,
   "id": "984e2d85-300d-4490-92e7-f17f4bab6464",
   "metadata": {},
   "outputs": [],
   "source": []
  }
 ],
 "metadata": {
  "kernelspec": {
   "display_name": "Python 3 (ipykernel)",
   "language": "python",
   "name": "python3"
  },
  "language_info": {
   "codemirror_mode": {
    "name": "ipython",
    "version": 3
   },
   "file_extension": ".py",
   "mimetype": "text/x-python",
   "name": "python",
   "nbconvert_exporter": "python",
   "pygments_lexer": "ipython3",
   "version": "3.8.15"
  }
 },
 "nbformat": 4,
 "nbformat_minor": 5
}
