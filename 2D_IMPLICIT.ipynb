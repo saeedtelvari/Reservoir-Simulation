{
 "cells": [
  {
   "cell_type": "code",
   "execution_count": 1,
   "id": "6d0e5d92-ce91-4a85-9aaf-8d1406a2bb75",
   "metadata": {},
   "outputs": [],
   "source": [
    "import numpy as np\n",
    "import matplotlib.pyplot as plt\n",
    "from sklearn.metrics import r2_score\n",
    "import seaborn as sns"
   ]
  },
  {
   "cell_type": "code",
   "execution_count": 49,
   "id": "f6e3d61b-478f-4ceb-990d-159a8e047937",
   "metadata": {},
   "outputs": [],
   "source": [
    "# delta time (timestep)\n",
    "dt = 0.001\n",
    "# Number of time steps\n",
    "ndt = 400\n",
    "# Length\n",
    "L = 1\n",
    "# Number of grids == number of nodes-1\n",
    "ndx = 4\n",
    "ndy = 5\n",
    "m = ndx*ndy\n",
    "dx = 1\n",
    "dy = 1\n",
    "# boundary conditions pressure (numpy array with a length of 2)\n",
    "bc_pressure = np.array([1, 0])\n",
    "# Static rock properties\n",
    "phi = 0.2\n",
    "kx = 2\n",
    "ky = 2\n",
    "# fluid properties\n",
    "mu = 1\n",
    "rho = 62.4\n",
    "\n",
    "cp = 1e-6*mu*phi/kx"
   ]
  },
  {
   "cell_type": "code",
   "execution_count": 51,
   "id": "bd9d0959-4eb1-48b8-9ecb-bda1d8d233bd",
   "metadata": {},
   "outputs": [],
   "source": [
    "ij_to_m = lambda i, j: (j-1)*ndx+i # convert poisition to m"
   ]
  },
  {
   "cell_type": "code",
   "execution_count": 52,
   "id": "2138c967-8edd-4f0f-92fa-db7932744ddd",
   "metadata": {},
   "outputs": [],
   "source": [
    "ijpy_to_m = lambda i, j: (j)*ndx+i+1 # convert pythonic position (index starts from zero) to m"
   ]
  },
  {
   "cell_type": "code",
   "execution_count": 53,
   "id": "633a5705-ef5d-4eb0-b33c-28a162795b18",
   "metadata": {},
   "outputs": [],
   "source": [
    "# list of all coordinations (i,j) and m\n",
    "ijpy_m = []\n",
    "for j in range(ndy):\n",
    "    for i in range(ndx):\n",
    "        ijpy_m.append(( (i, j), ijpy_to_m(i, j)))"
   ]
  },
  {
   "cell_type": "code",
   "execution_count": 54,
   "id": "8d64566b-e551-441c-86ac-cc8d7b3e5bb2",
   "metadata": {},
   "outputs": [],
   "source": [
    "# Check whether the block is a boundary grid block\n",
    "def is_exterior(i, j):\n",
    "    if i==0 or i==ndx-1 or j==0 or j==ndy-1:\n",
    "        return True\n",
    "    else:\n",
    "        return False"
   ]
  },
  {
   "cell_type": "code",
   "execution_count": 55,
   "id": "7eb0b79d-fa72-46b1-bc03-a1b57e129184",
   "metadata": {},
   "outputs": [],
   "source": [
    "# Check whether the block is inactive\n",
    "def is_active(i, j):\n",
    "    if i<0 or i>=ndx or j<0 or j>=ndy:\n",
    "        return False\n",
    "    else:\n",
    "        return True"
   ]
  },
  {
   "cell_type": "code",
   "execution_count": 71,
   "id": "74e27566-5e4e-49bc-9c0f-2da6ee60b36e",
   "metadata": {},
   "outputs": [],
   "source": [
    "tolerance = 1e-4\n",
    "pi = 2000\n",
    "ndt = 100\n",
    "all_A = []\n",
    "pressure_grid = np.ones([ndx, ndy, ndt]) * pi\n",
    "well_coords = (1,1)\n",
    "# Create matrix A\n",
    "A_m = np.zeros([m,m])\n",
    "betha = np.zeros([m])\n",
    "for t in range(ndt-1):\n",
    "    A_m = np.zeros([m,m])\n",
    "    betha = np.zeros([m])\n",
    "    for n in range(m):\n",
    "        i,j = ijpy_m[n][0]\n",
    "        if ijpy_to_m(i-1, j)-1>=0 and is_active(i-1, j):\n",
    "            A_m[n, ijpy_to_m(i-1, j)-1] = -kx*rho/(mu*dx*dx)\n",
    "\n",
    "        if ijpy_to_m(i, j-1)-1>=0 and is_active(i, j-1):\n",
    "            A_m[n, ijpy_to_m(i, j-1)-1] = -ky*rho/(mu*dy*dy)\n",
    "\n",
    "        if ijpy_to_m(i+1, j)<=m and is_active(i+1, j):\n",
    "            A_m[n, ijpy_to_m(i+1, j)-1] = -kx*rho/(mu*dx*dx)\n",
    "\n",
    "        if ijpy_to_m(i, j+1)<=m and is_active(i, j+1):\n",
    "            A_m[n, ijpy_to_m(i, j+1)-1] = -ky*rho/(mu*dy*dy)\n",
    "        \n",
    "        A_m[n, n] = cp/dt + kx*rho/(mu*dx*dx) + ky*rho/(mu*dy*dy) + kx*rho/(mu*dx*dx) + ky*rho/(mu*dy*dy)\n",
    "        if is_exterior(i, j):\n",
    "            if i==0:\n",
    "                A_m[n, n] -= -kx*rho/(mu*dx*dx)\n",
    "            if i==ndx-1:\n",
    "                A_m[n, n] -= -kx*rho/(mu*dx*dx)\n",
    "            if j==0:\n",
    "                A_m[n, n] -= -ky*rho/(mu*dy*dy)\n",
    "            if j==ndy-1:\n",
    "                A_m[n, n] -= -ky*rho/(mu*dy*dy)\n",
    "        betha[n] = cp*pressure_grid[i, j, t]/dt\n",
    "        betha[ijpy_to_m(*well_coords)-1] -= 1\n",
    "    if t==0:\n",
    "        betha_zero = betha\n",
    "    p = np.linalg.solve(A_m, betha)\n",
    "    all_A.append(A_m)\n",
    "    pressure_grid[:,:,t+1] = p.reshape(ndx, ndy, order='F').copy()"
   ]
  },
  {
   "cell_type": "code",
   "execution_count": 90,
   "id": "6f6303af-dd7f-4848-be89-2f491a17c83b",
   "metadata": {},
   "outputs": [
    {
     "data": {
      "text/plain": [
       "-124.8"
      ]
     },
     "execution_count": 90,
     "metadata": {},
     "output_type": "execute_result"
    }
   ],
   "source": [
    "-ky*rho/(mu*dy*dy)"
   ]
  },
  {
   "cell_type": "code",
   "execution_count": 78,
   "id": "7bbd1847-b71b-475f-84f0-27b3d14aa49f",
   "metadata": {},
   "outputs": [
    {
     "data": {
      "text/plain": [
       "array([-2.88349575e-03, -9.43242920e-03, -4.51987233e-03, -9.90908815e-04,\n",
       "       -9.47111169e-03, -4.13613496e-02, -1.37785914e-02, -3.02814545e-03,\n",
       "       -4.71328482e-03, -1.41735556e-02, -7.80757333e-03, -1.97379358e-03,\n",
       "       -1.52432471e-03, -4.41458997e-03, -2.90692316e-03, -6.35814818e-04,\n",
       "       -9.63141021e-05, -6.56124080e-04, -3.72280960e-04,  9.90780408e-05])"
      ]
     },
     "execution_count": 78,
     "metadata": {},
     "output_type": "execute_result"
    }
   ],
   "source": [
    "np.linalg.solve(all_A[0], betha_zero)"
   ]
  },
  {
   "cell_type": "code",
   "execution_count": 79,
   "id": "688e467f-448c-40e8-a551-e406daef7958",
   "metadata": {},
   "outputs": [
    {
     "data": {
      "text/plain": [
       "array([[-2.88349575e-03, -9.47111169e-03, -4.71328482e-03,\n",
       "        -1.52432471e-03, -9.63141021e-05],\n",
       "       [-9.43242920e-03, -4.13613496e-02, -1.41735556e-02,\n",
       "        -4.41458997e-03, -6.56124080e-04],\n",
       "       [-4.51987233e-03, -1.37785914e-02, -7.80757333e-03,\n",
       "        -2.90692316e-03, -3.72280960e-04],\n",
       "       [-9.90908815e-04, -3.02814545e-03, -1.97379358e-03,\n",
       "        -6.35814818e-04,  9.90780408e-05]])"
      ]
     },
     "execution_count": 79,
     "metadata": {},
     "output_type": "execute_result"
    }
   ],
   "source": [
    "pressure_grid[:,:,1]"
   ]
  },
  {
   "cell_type": "code",
   "execution_count": 70,
   "id": "6fcd4ea2-b275-40f8-9d88-b7fba9e2982b",
   "metadata": {},
   "outputs": [
    {
     "data": {
      "text/plain": [
       "array([  0.2,   0.2,   0.2,   0.2,   0.2, -14.8,   0.2,   0.2,   0.2,\n",
       "         0.2,   0.2,   0.2,   0.2,   0.2,   0.2,   0.2,   0.2,   0.2,\n",
       "         0.2,   0.2])"
      ]
     },
     "execution_count": 70,
     "metadata": {},
     "output_type": "execute_result"
    }
   ],
   "source": [
    "betha_zero"
   ]
  },
  {
   "cell_type": "code",
   "execution_count": 64,
   "id": "36ada076-5cd9-4013-a01b-03a55ea9f27d",
   "metadata": {},
   "outputs": [
    {
     "data": {
      "text/plain": [
       "array([-3.50885680e-07, -1.04919603e-06, -5.57940161e-07, -1.61626886e-07,\n",
       "       -1.05611805e-06, -1.50000043e+01, -1.57887789e-06, -4.11821156e-07,\n",
       "       -5.92550294e-07, -1.64519444e-06, -1.00859595e-06, -3.18601003e-07,\n",
       "       -2.61438973e-07, -6.42477232e-07, -4.91710454e-07, -1.72587913e-07,\n",
       "       -7.21673386e-08, -1.71565059e-07, -1.43180724e-07, -5.26281061e-08])"
      ]
     },
     "execution_count": 64,
     "metadata": {},
     "output_type": "execute_result"
    }
   ],
   "source": [
    "betha"
   ]
  },
  {
   "cell_type": "code",
   "execution_count": 57,
   "id": "ee5fb58f-3f55-43fe-903f-dd8d2ab6370a",
   "metadata": {},
   "outputs": [
    {
     "data": {
      "text/plain": [
       "-124.8"
      ]
     },
     "execution_count": 57,
     "metadata": {},
     "output_type": "execute_result"
    }
   ],
   "source": [
    "-ky*rho/(mu*dy*dy)"
   ]
  },
  {
   "cell_type": "code",
   "execution_count": 58,
   "id": "be74f4e1-6771-4c41-8926-3a55d33132df",
   "metadata": {},
   "outputs": [
    {
     "data": {
      "text/plain": [
       "624.0001"
      ]
     },
     "execution_count": 58,
     "metadata": {},
     "output_type": "execute_result"
    }
   ],
   "source": [
    "A_m[1,1]"
   ]
  },
  {
   "cell_type": "code",
   "execution_count": 81,
   "id": "9e9fa569-93c5-4bdd-b360-c107ca47996e",
   "metadata": {},
   "outputs": [
    {
     "data": {
      "text/plain": [
       "<matplotlib.colorbar.Colorbar at 0x7f223650b520>"
      ]
     },
     "execution_count": 81,
     "metadata": {},
     "output_type": "execute_result"
    },
    {
     "data": {
      "image/png": "[encoded data removed]",
      "text/plain": [
       "<Figure size 640x480 with 2 Axes>"
      ]
     },
     "metadata": {},
     "output_type": "display_data"
    }
   ],
   "source": [
    "plt.imshow(all_A[0])\n",
    "plt.colorbar()"
   ]
  },
  {
   "cell_type": "code",
   "execution_count": 72,
   "id": "4a449417-4d89-4e49-9949-3fb6705e0e22",
   "metadata": {},
   "outputs": [
    {
     "data": {
      "image/png": "[encoded data removed]",
      "text/plain": [
       "<Figure size 640x480 with 2 Axes>"
      ]
     },
     "metadata": {},
     "output_type": "display_data"
    }
   ],
   "source": [
    "labels = [i+1 for i in range(20)]\n",
    "labels = np.reshape(labels, (ndy, ndx))\n",
    "time = 1\n",
    "ax = sns.heatmap(pressure_grid[:,:,time].swapaxes(0, 1), cmap=\"inferno\", cbar=True, annot=labels)\n",
    "ax.set(xticklabels=[])\n",
    "plt.show()\n"
   ]
  },
  {
   "cell_type": "code",
   "execution_count": 63,
   "id": "98514ab6-4b2d-4e1c-a478-baae4f8152ad",
   "metadata": {},
   "outputs": [
    {
     "data": {
      "image/png": "[encoded data removed]",
      "text/plain": [
       "<Figure size 640x480 with 2 Axes>"
      ]
     },
     "metadata": {},
     "output_type": "display_data"
    }
   ],
   "source": [
    "t = 10\n",
    "plt.imshow(pressure_grid[:,:,t])\n",
    "plt.xlabel('X')\n",
    "\n",
    "plt.axis('on')\n",
    "plt.colorbar()\n",
    "plt.show()"
   ]
  },
  {
   "cell_type": "markdown",
   "id": "46fcb994-a6af-4d72-b626-e6d82c626b74",
   "metadata": {},
   "source": [
    "### Constant BC Pressure=1500"
   ]
  },
  {
   "cell_type": "code",
   "execution_count": 50,
   "id": "e43d290a-2aaf-4bf6-b10c-0b3cbff71f89",
   "metadata": {},
   "outputs": [],
   "source": [
    "tolerance = 1e-4\n",
    "pi = 1000\n",
    "pressure_grid = np.ones([ndx, ndy, ndt]) * pi\n",
    "well_coords = (1,1)\n",
    "# Create matrix A\n",
    "A_m = np.zeros([m,m])\n",
    "betha = np.zeros([m])\n",
    "for t in range(ndt-1):\n",
    "    A_m = np.zeros([m,m])\n",
    "    betha = np.zeros([m])\n",
    "    for n in range(m):\n",
    "        i,j = ijpy_m[n][0]\n",
    "        # if is_exterior(i, j):\n",
    "            \n",
    "        if ijpy_to_m(i-1, j)-1>=0:\n",
    "            A_m[n, ijpy_to_m(i-1, j)-1] = -kx*rho/(mu*dx*dx)\n",
    "\n",
    "        if ijpy_to_m(i, j-1)-1>=0:\n",
    "            A_m[n, ijpy_to_m(i, j-1)-1] = -ky*rho/(mu*dy*dy)\n",
    "\n",
    "        if ijpy_to_m(i+1, j)<=m:\n",
    "            A_m[n, ijpy_to_m(i+1, j)-1] = -kx*rho/(mu*dx*dx)\n",
    "\n",
    "        if ijpy_to_m(i, j+1)<=m:\n",
    "            A_m[n, ijpy_to_m(i, j+1)-1] = -ky*rho/(mu*dy*dy)\n",
    "            \n",
    "        A_m[n, n] = cp/dt + kx*rho/(mu*dx*dx) + ky*rho/(mu*dy*dy) + kx*rho/(mu*dx*dx) + ky*rho/(mu*dy*dy)\n",
    "        betha[n] = cp*pressure_grid[i, j, t]/dt\n",
    "        betha[ijpy_to_m(*well_coords)-1] += 500\n",
    "    p = np.linalg.solve(A_m, betha)\n",
    "    pressure_grid[:,:,t+1] = p.reshape(ndx, ndy, order='F')"
   ]
  },
  {
   "cell_type": "code",
   "execution_count": 52,
   "id": "ddfcd59e-09a5-41df-ae6f-156f0425aa37",
   "metadata": {},
   "outputs": [
    {
     "data": {
      "image/png": "[encoded data removed]",
      "text/plain": [
       "<Figure size 640x480 with 1 Axes>"
      ]
     },
     "metadata": {},
     "output_type": "display_data"
    }
   ],
   "source": [
    "labels = [i+1 for i in range(20)]\n",
    "labels = np.reshape(labels, (ndy, ndx))\n",
    "\n",
    "ax = sns.heatmap(pressure_grid[:,:,-1].swapaxes(0, 1), cmap=\"inferno\", cbar=False, annot=labels)\n",
    "ax.set(xticklabels=[])\n",
    "plt.show()\n"
   ]
  },
  {
   "cell_type": "code",
   "execution_count": null,
   "id": "9ca6056a-c1cd-4b8a-add5-97029069b594",
   "metadata": {},
   "outputs": [],
   "source": []
  }
 ],
 "metadata": {
  "kernelspec": {
   "display_name": "Python 3 (ipykernel)",
   "language": "python",
   "name": "python3"
  },
  "language_info": {
   "codemirror_mode": {
    "name": "ipython",
    "version": 3
   },
   "file_extension": ".py",
   "mimetype": "text/x-python",
   "name": "python",
   "nbconvert_exporter": "python",
   "pygments_lexer": "ipython3",
   "version": "3.8.15"
  }
 },
 "nbformat": 4,
 "nbformat_minor": 5
}
